{
  "metadata": {
    "language_info": {
      "codemirror_mode": {
        "name": "python",
        "version": 3
      },
      "file_extension": ".py",
      "mimetype": "text/x-python",
      "name": "python",
      "nbconvert_exporter": "python",
      "pygments_lexer": "ipython3",
      "version": "3.8"
    },
    "kernelspec": {
      "name": "python",
      "display_name": "Python (Pyodide)",
      "language": "python"
    }
  },
  "nbformat_minor": 4,
  "nbformat": 4,
  "cells": [
    {
      "cell_type": "code",
      "source": "import pickle\n\n# Crear la lista de jugadores\njugadores_nba = [\"Lebron James\", \"Stephen Curry\", \"Luka Doncic\", \"Joel Embid\", \"Michael Jordan\", \"Victor Wembanyama\"]\n\n# Serializar la lista y guardarla en un archivo binario\narchivo_pickle = \"jugadores_nba.pkl\"\nwith open(archivo_pickle, \"wb\") as f:\n    pickle.dump(jugadores_nba, f)\n\n# Recuperar la información del archivo y deserializarla\nwith open(archivo_pickle, \"rb\") as f:\n    jugadores_recuperados = pickle.load(f)\n\n# Imprimir la lista original y la lista recuperada\nprint(\"Lista original de jugadores:\", jugadores_nba)\nprint(\"Lista de jugadores recuperada:\", jugadores_recuperados)",
      "metadata": {},
      "execution_count": null,
      "outputs": []
    }
  ]
}